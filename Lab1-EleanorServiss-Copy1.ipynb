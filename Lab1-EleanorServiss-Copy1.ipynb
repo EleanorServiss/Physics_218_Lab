{
 "cells": [
  {
   "cell_type": "markdown",
   "metadata": {},
   "source": [
    "$\\alpha = \\frac{\\Delta L}{L\\Delta T}$ "
   ]
  },
  {
   "cell_type": "code",
   "execution_count": 1,
   "metadata": {},
   "outputs": [
    {
     "name": "stdout",
     "output_type": "stream",
     "text": [
      "0.31622776601683794\n"
     ]
    }
   ],
   "source": [
    "import numpy as np\n",
    "\n",
    "def rule3(errA,errB):\n",
    "    errQ = np.sqrt (errA**2 + errB**2)\n",
    "    return errQ\n",
    "\n",
    "errT_i = 0.3 #C\n",
    "errT_f = .1 #C\n",
    "\n",
    "err_Delta_T = rule3(errT_i, errT_f)\n",
    "\n",
    "print (err_Delta_T)"
   ]
  },
  {
   "cell_type": "code",
   "execution_count": 19,
   "metadata": {},
   "outputs": [
    {
     "name": "stdout",
     "output_type": "stream",
     "text": [
      "1.7228309558266145e-05\n",
      "1.5962962826045274e-07\n"
     ]
    }
   ],
   "source": [
    "import numpy as np\n",
    "\n",
    "def rule4(Q, m, errA, A, n, errB, B, l, errC, C):\n",
    "    errQ = Q * np.sqrt (((m*errA/A) **2) + ((n*errB/B) **2) + ((l*errC/C) **2) )\n",
    "    return errQ\n",
    "\n",
    "\n",
    "expon_Delta_L = 1\n",
    "err_Delta_L = .00001 #m\n",
    "Delta_L = .00125 #m\n",
    "\n",
    "expon_L = -1\n",
    "errL = .001 #m\n",
    "L= 1.05 #m\n",
    "\n",
    "expon_Delta_T = -1\n",
    "err_Delta_T = rule3(errT_i, errT_f) #C\n",
    "T_f = 92.5 #C\n",
    "T_i = 23.4 #C\n",
    "Delta_T = (T_f - T_i) #C\n",
    "\n",
    "alpha = (Delta_L / (L * Delta_T))\n",
    "\n",
    "err_alpha = rule4(alpha, expon_Delta_L, err_Delta_L, Delta_L, expon_L, errL, L, expon_Delta_T, err_Delta_T, Delta_T)\n",
    "\n",
    "print (alpha) \n",
    "print (err_alpha)"
   ]
  },
  {
   "cell_type": "code",
   "execution_count": null,
   "metadata": {},
   "outputs": [],
   "source": []
  }
 ],
 "metadata": {
  "kernelspec": {
   "display_name": "Python 3",
   "language": "python",
   "name": "python3"
  },
  "language_info": {
   "codemirror_mode": {
    "name": "ipython",
    "version": 3
   },
   "file_extension": ".py",
   "mimetype": "text/x-python",
   "name": "python",
   "nbconvert_exporter": "python",
   "pygments_lexer": "ipython3",
   "version": "3.6.5"
  }
 },
 "nbformat": 4,
 "nbformat_minor": 2
}
